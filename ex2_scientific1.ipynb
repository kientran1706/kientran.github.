{
  "cells": [
    {
      "cell_type": "markdown",
      "metadata": {
        "id": "view-in-github",
        "colab_type": "text"
      },
      "source": [
        "<a href=\"https://colab.research.google.com/github/kientran1706/kientran.github./blob/exercise2/ex2_scientific1.ipynb\" target=\"_parent\"><img src=\"https://colab.research.google.com/assets/colab-badge.svg\" alt=\"Open In Colab\"/></a>"
      ]
    },
    {
      "cell_type": "markdown",
      "id": "3229ba4b-64f5-4431-a7e4-e610bf475611",
      "metadata": {
        "id": "3229ba4b-64f5-4431-a7e4-e610bf475611"
      },
      "source": [
        "# ex2_scientific1"
      ]
    },
    {
      "cell_type": "markdown",
      "id": "06ed9260-e298-4c5f-b805-c1158de0c7c4",
      "metadata": {
        "id": "06ed9260-e298-4c5f-b805-c1158de0c7c4"
      },
      "source": [
        "## Nội dung bài\n",
        "Hiển thị ngẫu nhiên $N=50$ hình tròn:\n",
        "+ Tâm $c_i = (x_i,y_i)$ ngẫu nhiên với $x_i, y_i \\in \\left[0, 1 \\right]$\n",
        "+ Màu sắc $color_i$ ngẫu nhiên với $color_i \\in \\left[0, 1 \\right]$\n",
        "+ Diện tích $area_i = \\pi * r_i^2$ với sinh ngẫu nhiên $r_i \\in \\left[0, 1 \\right]$"
      ]
    },
    {
      "cell_type": "markdown",
      "id": "4f067467-b122-454e-9076-61acbd36d893",
      "metadata": {
        "id": "4f067467-b122-454e-9076-61acbd36d893"
      },
      "source": [
        "## Bài làm"
      ]
    },
    {
      "cell_type": "markdown",
      "id": "cd993627-d5b1-4e89-81e4-8d93e0109f1f",
      "metadata": {
        "id": "cd993627-d5b1-4e89-81e4-8d93e0109f1f"
      },
      "source": [
        "### Import thư viện"
      ]
    },
    {
      "cell_type": "code",
      "execution_count": 21,
      "id": "2659b66e-9fd2-4a37-bbe7-c63537fe06e7",
      "metadata": {
        "id": "2659b66e-9fd2-4a37-bbe7-c63537fe06e7"
      },
      "outputs": [],
      "source": [
        "import numpy as np\n",
        "import matplotlib.pyplot as plt\n",
        "from IPython import display # hiển thị rich output"
      ]
    },
    {
      "cell_type": "markdown",
      "id": "97031c04-dfe1-4856-a8ed-5140ad8948a8",
      "metadata": {
        "id": "97031c04-dfe1-4856-a8ed-5140ad8948a8"
      },
      "source": [
        "### Sinh ngẫu nhiên hình tròn"
      ]
    },
    {
      "cell_type": "code",
      "execution_count": 16,
      "id": "f55d4f03-5816-4a27-8bfd-540e208d197a",
      "metadata": {
        "colab": {
          "base_uri": "https://localhost:8080/"
        },
        "id": "f55d4f03-5816-4a27-8bfd-540e208d197a",
        "outputId": "7c491664-dc77-4328-b36c-94e64bb50539"
      },
      "outputs": [
        {
          "output_type": "stream",
          "name": "stdout",
          "text": [
            "CPU times: user 5 µs, sys: 1 µs, total: 6 µs\n",
            "Wall time: 11.2 µs\n"
          ]
        }
      ],
      "source": [
        "%time\n",
        "# generate randomly the center (x,y ) of circle, color, area\n",
        "N = 50\n",
        "x = np.random.rand(N)\n",
        "y = np.random.rand(N)\n",
        "colors = np.random.rand(N)\n",
        "area = np.pi * (15 * np.random.rand(N)) ** 2  # 0 to 15 point radii"
      ]
    },
    {
      "cell_type": "code",
      "execution_count": 17,
      "id": "0844fbdf-f44d-416a-b64c-81d308322224",
      "metadata": {
        "colab": {
          "base_uri": "https://localhost:8080/"
        },
        "id": "0844fbdf-f44d-416a-b64c-81d308322224",
        "outputId": "edd35d47-cedd-4368-b9d8-bfa4e2894fe8"
      },
      "outputs": [
        {
          "output_type": "stream",
          "name": "stdout",
          "text": [
            "+ x: len=50, [0.02, 0.99]: 10 samples [[0.46421745 0.06966227 0.71555714 0.77294991 0.34165946 0.60941015\n",
            " 0.38874527 0.49662695 0.39602664 0.32841176]]\n",
            "+ y: len=50, [0.01, 0.99]: 10 samples [[0.64772189 0.19743015 0.20673503 0.71832319 0.61149681 0.51320974\n",
            " 0.06447435 0.51439313 0.55335217 0.01080732]]\n",
            "+ colors: len=50, [0.00, 0.98]: 10 samples [[0.22781767 0.97617297 0.59676898 0.98312889 0.56414735 0.48273248\n",
            " 0.19938122 0.663968   0.62334696 0.57830777]]\n",
            "+ area: len=50, [0.06, 665.50]: 10 samples [[195.29697476 665.49749024 601.91785102 617.5486272  119.42918226\n",
            "  10.90269221 124.88599385 341.97679356  18.01225438   1.14487553]]\n"
          ]
        }
      ],
      "source": [
        "# Mã kiểm tra dữ liệu\n",
        "print(f'+ x: len={len(x):d}, [{min(x):.2f}, {max(x):.2f}]: 10 samples [{x[0:10]}]')\n",
        "print(f'+ y: len={len(y):d}, [{min(y):.2f}, {max(y):.2f}]: 10 samples [{y[0:10]}]')\n",
        "print(f'+ colors: len={len(colors):d}, [{min(colors):.2f}, {max(colors):.2f}]: 10 samples [{colors[0:10]}]')\n",
        "print(f'+ area: len={len(area):d}, [{min(area):.2f}, {max(area):.2f}]: 10 samples [{area[0:10]}]')"
      ]
    },
    {
      "cell_type": "markdown",
      "id": "407abc31-93b3-4de0-8cc1-630ee7a6fcb4",
      "metadata": {
        "id": "407abc31-93b3-4de0-8cc1-630ee7a6fcb4"
      },
      "source": [
        "### Hiển thị đồ thị"
      ]
    },
    {
      "cell_type": "code",
      "execution_count": 20,
      "id": "ee02a5e6-6681-42aa-8a53-c742cf3e1bdd",
      "metadata": {
        "colab": {
          "base_uri": "https://localhost:8080/",
          "height": 430
        },
        "id": "ee02a5e6-6681-42aa-8a53-c742cf3e1bdd",
        "outputId": "bdb16dfb-1a12-4ca0-ff31-d202cee05119"
      },
      "outputs": [
        {
          "output_type": "display_data",
          "data": {
            "text/plain": [
              "<Figure size 640x480 with 1 Axes>"
            ],
            "image/png": "[encoded data removed]"
          },
          "metadata": {}
        }
      ],
      "source": [
        "%matplotlib inline\n",
        "plt.scatter(x, y, s=area, c=colors, alpha=0.5)\n",
        "plt.show()"
      ]
    },
    {
      "cell_type": "markdown",
      "id": "2cc37734-a84f-4a13-bbd5-e73db8ffda22",
      "metadata": {
        "id": "2cc37734-a84f-4a13-bbd5-e73db8ffda22"
      },
      "source": [
        "## Kết thúc"
      ]
    },
    {
      "cell_type": "code",
      "execution_count": 19,
      "id": "ec19fdc7-3d8e-41fb-aead-d42bcaf3892b",
      "metadata": {
        "colab": {
          "base_uri": "https://localhost:8080/"
        },
        "id": "ec19fdc7-3d8e-41fb-aead-d42bcaf3892b",
        "outputId": "08f178fe-72cc-4888-c93f-9b3a10b47dea"
      },
      "outputs": [
        {
          "output_type": "stream",
          "name": "stdout",
          "text": [
            "[NbConvertApp] WARNING | pattern 'ex2_scientific1.ipynb' matched no files\n",
            "This application is used to convert notebook files (*.ipynb)\n",
            "        to various other formats.\n",
            "\n",
            "        WARNING: THE COMMANDLINE INTERFACE MAY CHANGE IN FUTURE RELEASES.\n",
            "\n",
            "Options\n",
            "=======\n",
            "The options below are convenience aliases to configurable class-options,\n",
            "as listed in the \"Equivalent to\" description-line of the aliases.\n",
            "To see all configurable class-options for some <cmd>, use:\n",
            "    <cmd> --help-all\n",
            "\n",
            "--debug\n",
            "    set log level to logging.DEBUG (maximize logging output)\n",
            "    Equivalent to: [--Application.log_level=10]\n",
            "--show-config\n",
            "    Show the application's configuration (human-readable format)\n",
            "    Equivalent to: [--Application.show_config=True]\n",
            "--show-config-json\n",
            "    Show the application's configuration (json format)\n",
            "    Equivalent to: [--Application.show_config_json=True]\n",
            "--generate-config\n",
            "    generate default config file\n",
            "    Equivalent to: [--JupyterApp.generate_config=True]\n",
            "-y\n",
            "    Answer yes to any questions instead of prompting.\n",
            "    Equivalent to: [--JupyterApp.answer_yes=True]\n",
            "--execute\n",
            "    Execute the notebook prior to export.\n",
            "    Equivalent to: [--ExecutePreprocessor.enabled=True]\n",
            "--allow-errors\n",
            "    Continue notebook execution even if one of the cells throws an error and include the error message in the cell output (the default behaviour is to abort conversion). This flag is only relevant if '--execute' was specified, too.\n",
            "    Equivalent to: [--ExecutePreprocessor.allow_errors=True]\n",
            "--stdin\n",
            "    read a single notebook file from stdin. Write the resulting notebook with default basename 'notebook.*'\n",
            "    Equivalent to: [--NbConvertApp.from_stdin=True]\n",
            "--stdout\n",
            "    Write notebook output to stdout instead of files.\n",
            "    Equivalent to: [--NbConvertApp.writer_class=StdoutWriter]\n",
            "--inplace\n",
            "    Run nbconvert in place, overwriting the existing notebook (only\n",
            "            relevant when converting to notebook format)\n",
            "    Equivalent to: [--NbConvertApp.use_output_suffix=False --NbConvertApp.export_format=notebook --FilesWriter.build_directory=]\n",
            "--clear-output\n",
            "    Clear output of current file and save in place,\n",
            "            overwriting the existing notebook.\n",
            "    Equivalent to: [--NbConvertApp.use_output_suffix=False --NbConvertApp.export_format=notebook --FilesWriter.build_directory= --ClearOutputPreprocessor.enabled=True]\n",
            "--coalesce-streams\n",
            "    Coalesce consecutive stdout and stderr outputs into one stream (within each cell).\n",
            "    Equivalent to: [--NbConvertApp.use_output_suffix=False --NbConvertApp.export_format=notebook --FilesWriter.build_directory= --CoalesceStreamsPreprocessor.enabled=True]\n",
            "--no-prompt\n",
            "    Exclude input and output prompts from converted document.\n",
            "    Equivalent to: [--TemplateExporter.exclude_input_prompt=True --TemplateExporter.exclude_output_prompt=True]\n",
            "--no-input\n",
            "    Exclude input cells and output prompts from converted document.\n",
            "            This mode is ideal for generating code-free reports.\n",
            "    Equivalent to: [--TemplateExporter.exclude_output_prompt=True --TemplateExporter.exclude_input=True --TemplateExporter.exclude_input_prompt=True]\n",
            "--allow-chromium-download\n",
            "    Whether to allow downloading chromium if no suitable version is found on the system.\n",
            "    Equivalent to: [--WebPDFExporter.allow_chromium_download=True]\n",
            "--disable-chromium-sandbox\n",
            "    Disable chromium security sandbox when converting to PDF..\n",
            "    Equivalent to: [--WebPDFExporter.disable_sandbox=True]\n",
            "--show-input\n",
            "    Shows code input. This flag is only useful for dejavu users.\n",
            "    Equivalent to: [--TemplateExporter.exclude_input=False]\n",
            "--embed-images\n",
            "    Embed the images as base64 dataurls in the output. This flag is only useful for the HTML/WebPDF/Slides exports.\n",
            "    Equivalent to: [--HTMLExporter.embed_images=True]\n",
            "--sanitize-html\n",
            "    Whether the HTML in Markdown cells and cell outputs should be sanitized..\n",
            "    Equivalent to: [--HTMLExporter.sanitize_html=True]\n",
            "--log-level=<Enum>\n",
            "    Set the log level by value or name.\n",
            "    Choices: any of [0, 10, 20, 30, 40, 50, 'DEBUG', 'INFO', 'WARN', 'ERROR', 'CRITICAL']\n",
            "    Default: 30\n",
            "    Equivalent to: [--Application.log_level]\n",
            "--config=<Unicode>\n",
            "    Full path of a config file.\n",
            "    Default: ''\n",
            "    Equivalent to: [--JupyterApp.config_file]\n",
            "--to=<Unicode>\n",
            "    The export format to be used, either one of the built-in formats\n",
            "            ['asciidoc', 'custom', 'html', 'latex', 'markdown', 'notebook', 'pdf', 'python', 'qtpdf', 'qtpng', 'rst', 'script', 'slides', 'webpdf']\n",
            "            or a dotted object name that represents the import path for an\n",
            "            ``Exporter`` class\n",
            "    Default: ''\n",
            "    Equivalent to: [--NbConvertApp.export_format]\n",
            "--template=<Unicode>\n",
            "    Name of the template to use\n",
            "    Default: ''\n",
            "    Equivalent to: [--TemplateExporter.template_name]\n",
            "--template-file=<Unicode>\n",
            "    Name of the template file to use\n",
            "    Default: None\n",
            "    Equivalent to: [--TemplateExporter.template_file]\n",
            "--theme=<Unicode>\n",
            "    Template specific theme(e.g. the name of a JupyterLab CSS theme distributed\n",
            "    as prebuilt extension for the lab template)\n",
            "    Default: 'light'\n",
            "    Equivalent to: [--HTMLExporter.theme]\n",
            "--sanitize_html=<Bool>\n",
            "    Whether the HTML in Markdown cells and cell outputs should be sanitized.This\n",
            "    should be set to True by nbviewer or similar tools.\n",
            "    Default: False\n",
            "    Equivalent to: [--HTMLExporter.sanitize_html]\n",
            "--writer=<DottedObjectName>\n",
            "    Writer class used to write the\n",
            "                                        results of the conversion\n",
            "    Default: 'FilesWriter'\n",
            "    Equivalent to: [--NbConvertApp.writer_class]\n",
            "--post=<DottedOrNone>\n",
            "    PostProcessor class used to write the\n",
            "                                        results of the conversion\n",
            "    Default: ''\n",
            "    Equivalent to: [--NbConvertApp.postprocessor_class]\n",
            "--output=<Unicode>\n",
            "    Overwrite base name use for output files.\n",
            "                Supports pattern replacements '{notebook_name}'.\n",
            "    Default: '{notebook_name}'\n",
            "    Equivalent to: [--NbConvertApp.output_base]\n",
            "--output-dir=<Unicode>\n",
            "    Directory to write output(s) to. Defaults\n",
            "                                  to output to the directory of each notebook. To recover\n",
            "                                  previous default behaviour (outputting to the current\n",
            "                                  working directory) use . as the flag value.\n",
            "    Default: ''\n",
            "    Equivalent to: [--FilesWriter.build_directory]\n",
            "--reveal-prefix=<Unicode>\n",
            "    The URL prefix for reveal.js (version 3.x).\n",
            "            This defaults to the reveal CDN, but can be any url pointing to a copy\n",
            "            of reveal.js.\n",
            "            For speaker notes to work, this must be a relative path to a local\n",
            "            copy of reveal.js: e.g., \"reveal.js\".\n",
            "            If a relative path is given, it must be a subdirectory of the\n",
            "            current directory (from which the server is run).\n",
            "            See the usage documentation\n",
            "            (https://nbconvert.readthedocs.io/en/latest/usage.html#reveal-js-html-slideshow)\n",
            "            for more details.\n",
            "    Default: ''\n",
            "    Equivalent to: [--SlidesExporter.reveal_url_prefix]\n",
            "--nbformat=<Enum>\n",
            "    The nbformat version to write.\n",
            "            Use this to downgrade notebooks.\n",
            "    Choices: any of [1, 2, 3, 4]\n",
            "    Default: 4\n",
            "    Equivalent to: [--NotebookExporter.nbformat_version]\n",
            "\n",
            "Examples\n",
            "--------\n",
            "\n",
            "    The simplest way to use nbconvert is\n",
            "\n",
            "            > jupyter nbconvert mynotebook.ipynb --to html\n",
            "\n",
            "            Options include ['asciidoc', 'custom', 'html', 'latex', 'markdown', 'notebook', 'pdf', 'python', 'qtpdf', 'qtpng', 'rst', 'script', 'slides', 'webpdf'].\n",
            "\n",
            "            > jupyter nbconvert --to latex mynotebook.ipynb\n",
            "\n",
            "            Both HTML and LaTeX support multiple output templates. LaTeX includes\n",
            "            'base', 'article' and 'report'.  HTML includes 'basic', 'lab' and\n",
            "            'classic'. You can specify the flavor of the format used.\n",
            "\n",
            "            > jupyter nbconvert --to html --template lab mynotebook.ipynb\n",
            "\n",
            "            You can also pipe the output to stdout, rather than a file\n",
            "\n",
            "            > jupyter nbconvert mynotebook.ipynb --stdout\n",
            "\n",
            "            PDF is generated via latex\n",
            "\n",
            "            > jupyter nbconvert mynotebook.ipynb --to pdf\n",
            "\n",
            "            You can get (and serve) a Reveal.js-powered slideshow\n",
            "\n",
            "            > jupyter nbconvert myslides.ipynb --to slides --post serve\n",
            "\n",
            "            Multiple notebooks can be given at the command line in a couple of\n",
            "            different ways:\n",
            "\n",
            "            > jupyter nbconvert notebook*.ipynb\n",
            "            > jupyter nbconvert notebook1.ipynb notebook2.ipynb\n",
            "\n",
            "            or you can specify the notebooks list in a config file, containing::\n",
            "\n",
            "                c.NbConvertApp.notebooks = [\"my_notebook.ipynb\"]\n",
            "\n",
            "            > jupyter nbconvert --config mycfg.py\n",
            "\n",
            "To see all available configurables, use `--help-all`.\n",
            "\n"
          ]
        }
      ],
      "source": [
        "!jupyter nbconvert ex2_scientific1.ipynb --to html"
      ]
    },
    {
      "cell_type": "code",
      "execution_count": 19,
      "id": "eca9df18-2747-4d3b-935d-4552a6b59b69",
      "metadata": {
        "id": "eca9df18-2747-4d3b-935d-4552a6b59b69"
      },
      "outputs": [],
      "source": []
    }
  ],
  "metadata": {
    "kernelspec": {
      "display_name": "Python 3 (ipykernel)",
      "language": "python",
      "name": "python3"
    },
    "language_info": {
      "codemirror_mode": {
        "name": "ipython",
        "version": 3
      },
      "file_extension": ".py",
      "mimetype": "text/x-python",
      "name": "python",
      "nbconvert_exporter": "python",
      "pygments_lexer": "ipython3",
      "version": "3.12.1"
    },
    "colab": {
      "provenance": [],
      "include_colab_link": true
    }
  },
  "nbformat": 4,
  "nbformat_minor": 5
}