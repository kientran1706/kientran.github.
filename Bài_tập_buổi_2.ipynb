{
  "nbformat": 4,
  "nbformat_minor": 0,
  "metadata": {
    "colab": {
      "provenance": [],
      "authorship_tag": "ABX9TyOoi8b6X1B/nQZyeB1gYs01",
      "include_colab_link": true
    },
    "kernelspec": {
      "name": "python3",
      "display_name": "Python 3"
    },
    "language_info": {
      "name": "python"
    }
  },
  "cells": [
    {
      "cell_type": "markdown",
      "metadata": {
        "id": "view-in-github",
        "colab_type": "text"
      },
      "source": [
        "<a href=\"https://colab.research.google.com/github/kientran1706/kientran.github./blob/main/B%C3%A0i_t%E1%BA%ADp_bu%E1%BB%95i_2.ipynb\" target=\"_parent\"><img src=\"https://colab.research.google.com/assets/colab-badge.svg\" alt=\"Open In Colab\"/></a>"
      ]
    },
    {
      "cell_type": "markdown",
      "source": [
        "**BÀI TẬP THỰC HÀNH\n",
        "CÁC THÀNH PHẦN CƠ BẢN CỦA PYTHON**"
      ],
      "metadata": {
        "id": "JioAOGbu45BK"
      }
    },
    {
      "cell_type": "markdown",
      "source": [
        "# **BÀI TẬP MẪU**"
      ],
      "metadata": {
        "id": "iSxLqQP_4-oX"
      }
    },
    {
      "cell_type": "markdown",
      "source": [
        "Bài 1: In chuỗi"
      ],
      "metadata": {
        "id": "Vw-i5xzwtAVF"
      }
    },
    {
      "cell_type": "code",
      "source": [
        "print(\"Whoever is happy will make others happy too\")\n",
        "print(\"--Anne Frank\")"
      ],
      "metadata": {
        "colab": {
          "base_uri": "https://localhost:8080/"
        },
        "id": "iG5qC7gPsI3f",
        "outputId": "70cf769d-a96f-4539-efff-176fd19eb038"
      },
      "execution_count": null,
      "outputs": [
        {
          "output_type": "stream",
          "name": "stdout",
          "text": [
            "Whoever is happy will make others happy too\n",
            "--Anne Frank\n"
          ]
        }
      ]
    },
    {
      "cell_type": "markdown",
      "source": [
        "Bài 2: Biểu thức tính toán"
      ],
      "metadata": {
        "id": "EZLHI9vwsx7g"
      }
    },
    {
      "cell_type": "code",
      "source": [
        "# Nhập dữ liệu\n",
        "a = int(input(\"Moi ban nhap so a: \"))\n",
        "b = int(input(\"Moi ban nhap so b: \"))\n",
        "\n",
        "# Xử lý\n",
        "kqCong = a + b\n",
        "kqTru = a - b\n",
        "kqNhan = a * b\n",
        "kqChiaNguyen = a // b\n",
        "kqDu = a % b\n",
        "kqChiaThuc = a / b\n",
        "\n",
        "# Xuất dữ liệu\n",
        "print(\"Cac ket qua tinh toan: \")\n",
        "print(\"%-5d + %5d = %5d\" % (a, b, kqCong))\n",
        "print(\"%-5d - %5d = %5d\" % (a, b, kqTru))\n",
        "print(\"%-5d * %5d = %5d\" % (a, b, kqNhan))\n",
        "print(\"%-5d // %5d = %5d\" % (a, b, kqChiaNguyen))\n",
        "print(\"%-5d %% %5d = %5d\" % (a, b, kqDu))\n",
        "print(\"%-5d / %5d = %5.2f\" % (a, b, kqChiaThuc))"
      ],
      "metadata": {
        "colab": {
          "base_uri": "https://localhost:8080/"
        },
        "id": "sIMVWulJtRU9",
        "outputId": "15233310-b0bd-42cc-c019-4be17bbbb3ca"
      },
      "execution_count": null,
      "outputs": [
        {
          "output_type": "stream",
          "name": "stdout",
          "text": [
            "Moi ban nhap so a: 5\n",
            "Moi ban nhap so b: 6\n",
            "Cac ket qua tinh toan: \n",
            "5     +     6 =    11\n",
            "5     -     6 =    -1\n",
            "5     *     6 =    30\n",
            "5     //     6 =     0\n",
            "5     %     6 =     5\n",
            "5     /     6 =  0.83\n"
          ]
        }
      ]
    },
    {
      "cell_type": "markdown",
      "source": [
        "Bài 3: Biểu thức so sánh"
      ],
      "metadata": {
        "id": "rPlJopLxt6ca"
      }
    },
    {
      "cell_type": "code",
      "source": [
        "# Nhập dữ liệu\n",
        "a = float(input(\"Moi ban nhap so a: \"))\n",
        "b = float(input(\"Moi ban nhap so b: \"))\n",
        "\n",
        "# Xử lý\n",
        "laNhoHon = (a < b)\n",
        "laLonHon = (a > b)\n",
        "laNhoHonBang = (a <= b)\n",
        "laLonHonBang = (a >= b)\n",
        "laBang = (a == b)\n",
        "laKhacNhau = (a != b)\n",
        "\n",
        "# Xuất dữ liệu\n",
        "print(\"Ket qua so sanh hai so thuc %.2f va %.2f:\" % (a, b))\n",
        "print(\"%8.2f <  %8.2f: %8s\" % (a, b, laNhoHon))\n",
        "print(\"%8.2f <= %8.2f: %8s\" % (a, b, laNhoHonBang))\n",
        "print(\"%8.2f >  %8.2f: %8s\" % (a, b, laLonHon))\n",
        "print(\"%8.2f >= %8.2f: %8s\" % (a, b, laLonHonBang))\n",
        "print(\"%8.2f == %8.2f: %8s\" % (a, b, laBang))\n",
        "print(\"%8.2f != %8.2f: %8s\" % (a, b, laKhacNhau))"
      ],
      "metadata": {
        "colab": {
          "base_uri": "https://localhost:8080/"
        },
        "id": "xu3V9RjYt9X8",
        "outputId": "844afd94-55ee-428f-c5b0-8f0884a70aa9"
      },
      "execution_count": null,
      "outputs": [
        {
          "output_type": "stream",
          "name": "stdout",
          "text": [
            "Moi ban nhap so a: 2.6\n",
            "Moi ban nhap so b: 6.8\n",
            "Ket qua so sanh hai so thuc 2.60 va 6.80:\n",
            "    2.60 <      6.80:     True\n",
            "    2.60 <=     6.80:     True\n",
            "    2.60 >      6.80:    False\n",
            "    2.60 >=     6.80:    False\n",
            "    2.60 ==     6.80:    False\n",
            "    2.60 !=     6.80:     True\n"
          ]
        }
      ]
    },
    {
      "cell_type": "markdown",
      "source": [
        "Bài 4. Tính giá trị hàm số"
      ],
      "metadata": {
        "id": "TXiLGgaju_9E"
      }
    },
    {
      "cell_type": "code",
      "source": [
        "# Nạp thư viện\n",
        "import math\n",
        "\n",
        "# Nhập dữ liệu\n",
        "x = float(input(\"Moi ban nhap vao gia tri cua bien so x: \"))\n",
        "\n",
        "# Xử lý\n",
        "fx = x + math.pow(x, 5) / (1 * 2 * 3 * 4 * 5) + \\\n",
        "     math.sqrt(abs(x)) / math.pow(x, 3.0 / 2)\n",
        "\n",
        "# Xuất dữ liệu\n",
        "print(\"Gia tri cua ham so f(%.2f) = %.2f.\" % (x, fx))\n"
      ],
      "metadata": {
        "colab": {
          "base_uri": "https://localhost:8080/"
        },
        "id": "PsILezEvvHxS",
        "outputId": "3cd5a071-7547-4039-be29-b9702bd3ebea"
      },
      "execution_count": null,
      "outputs": [
        {
          "output_type": "stream",
          "name": "stdout",
          "text": [
            "Moi ban nhap vao gia tri cua bien so x: 2.3\n",
            "Gia tri cua ham so f(2.30) = 3.27.\n"
          ]
        }
      ]
    },
    {
      "cell_type": "markdown",
      "source": [
        "Bài 5. Tổng chữ số"
      ],
      "metadata": {
        "id": "Rb05OiTYvo16"
      }
    },
    {
      "cell_type": "code",
      "source": [
        "# Nhập dữ liệu\n",
        "n = int(input(\"Moi ban nhap so nguyen n (co bon chu so): \"))\n",
        "\n",
        "# Xử lý\n",
        "chuso1 = n // 1000\n",
        "chuso2 = (n // 100) % 10\n",
        "chuso3 = (n // 10) % 10\n",
        "chuso4 = n % 10\n",
        "tong = chuso1 + chuso2 + chuso3 + chuso4\n",
        "\n",
        "# Xuất dữ liệu\n",
        "print(\"%d = %d + %d + %d + %d = %d\" % (n, chuso1, chuso2, chuso3, chuso4, tong))\n"
      ],
      "metadata": {
        "colab": {
          "base_uri": "https://localhost:8080/"
        },
        "id": "RvqYGQZ1vqDJ",
        "outputId": "59078ff3-fd96-4e06-d4e3-84b9b7c8a8e8"
      },
      "execution_count": null,
      "outputs": [
        {
          "output_type": "stream",
          "name": "stdout",
          "text": [
            "Moi ban nhap so nguyen n (co bon chu so): 1234\n",
            "1234 = 1 + 2 + 3 + 4 = 10\n"
          ]
        }
      ]
    },
    {
      "cell_type": "markdown",
      "source": [
        "# BÀI TẬP THỰC HÀNH"
      ],
      "metadata": {
        "id": "nyCaAdWav-X1"
      }
    },
    {
      "cell_type": "markdown",
      "source": [
        "Bài 1. In nhãn"
      ],
      "metadata": {
        "id": "xsDum1yrwEqV"
      }
    },
    {
      "cell_type": "code",
      "source": [
        "# Xuất dữ liệu\n",
        "print(\"**************************\")\n",
        "print(\"* Truong: Dai Hoc UEH    *\")\n",
        "print(\"* Khoa: CNTT             *\")\n",
        "print(\"* Ho ten:                *\")\n",
        "print(\"**************************\")\n"
      ],
      "metadata": {
        "colab": {
          "base_uri": "https://localhost:8080/"
        },
        "id": "S_OStVYKwV9k",
        "outputId": "18c556d6-a8b8-4683-8236-6d394b5ee498"
      },
      "execution_count": null,
      "outputs": [
        {
          "output_type": "stream",
          "name": "stdout",
          "text": [
            "**************************\n",
            "* Truong: Dai Hoc UEH    *\n",
            "* Khoa: CNTT             *\n",
            "* Ho ten:                *\n",
            "**************************\n"
          ]
        }
      ]
    },
    {
      "cell_type": "markdown",
      "source": [
        "Bài 2. Tính diện tích và chu hình tròn"
      ],
      "metadata": {
        "id": "aqSk4AxewpjI"
      }
    },
    {
      "cell_type": "code",
      "source": [
        "# Nhập dữ liệu\n",
        "R = float(input(\"Nhap ban kinh R: \"))\n",
        "\n",
        "# Xử lý\n",
        "S = 3.14 * R * R\n",
        "P = 2 * 3.14 * R\n",
        "\n",
        "# Xuất dữ liệu (lấy 1 chữ số thập phân)\n",
        "print(\"Dien tich S = %.1f\" % S)\n",
        "print(\"Chu vi P = %.1f\" % P)\n"
      ],
      "metadata": {
        "colab": {
          "base_uri": "https://localhost:8080/"
        },
        "id": "esXqiUfCwtaY",
        "outputId": "f8302753-2737-49f9-d32d-2e9dffb9ec32"
      },
      "execution_count": null,
      "outputs": [
        {
          "output_type": "stream",
          "name": "stdout",
          "text": [
            "Nhap ban kinh R: 5\n",
            "Dien tich S = 78.5\n",
            "Chu vi P = 31.4\n"
          ]
        }
      ]
    },
    {
      "cell_type": "markdown",
      "source": [
        "Bài 3. Đổi sang giây"
      ],
      "metadata": {
        "id": "qdswlhgBw6n_"
      }
    },
    {
      "cell_type": "code",
      "source": [
        "# Nhập dữ liệu\n",
        "h = int(input(\"Nhap so gio: \"))\n",
        "m = int(input(\"Nhap so phut: \"))\n",
        "s = int(input(\"Nhap so giay: \"))\n",
        "\n",
        "# Xử lý\n",
        "tong_giay = h * 3600 + m * 60 + s\n",
        "\n",
        "# Xuất dữ liệu\n",
        "print(f\"Tong so giay cua {h}:{m}:{s} la {tong_giay} giay\")\n"
      ],
      "metadata": {
        "colab": {
          "base_uri": "https://localhost:8080/"
        },
        "id": "5SXZfbsMxEez",
        "outputId": "7ba55a5b-a526-48b7-80dd-6974a680a97d"
      },
      "execution_count": null,
      "outputs": [
        {
          "output_type": "stream",
          "name": "stdout",
          "text": [
            "Nhap so gio: 36\n",
            "Nhap so phut: 45\n",
            "Nhap so giay: 34\n",
            "Tong so giay cua 36:45:34 la 132334 giay\n"
          ]
        }
      ]
    },
    {
      "cell_type": "markdown",
      "source": [
        "Bài 4. Đổi sang giờ phút giây"
      ],
      "metadata": {
        "id": "x2bLuULKxQHE"
      }
    },
    {
      "cell_type": "code",
      "source": [
        "# Nhập dữ liệu\n",
        "t = int(input(\"Nhap vao tong so giay: \"))\n",
        "\n",
        "# Xử lý\n",
        "h = t // 3600\n",
        "m = (t % 3600) // 60\n",
        "s = t % 60\n",
        "\n",
        "# Xuất dữ liệu\n",
        "print(f\"{t} giay co dang {h}:{m}:{s}\")\n"
      ],
      "metadata": {
        "colab": {
          "base_uri": "https://localhost:8080/"
        },
        "id": "Fl-PFBjhxW3L",
        "outputId": "61bc4557-f090-4e69-e3ed-d8230422542d"
      },
      "execution_count": null,
      "outputs": [
        {
          "output_type": "stream",
          "name": "stdout",
          "text": [
            "Nhap vao tong so giay: 23\n",
            "23 giay co dang 0:0:23\n"
          ]
        }
      ]
    },
    {
      "cell_type": "markdown",
      "source": [
        "Bài 5. Tính diện tích tam giác"
      ],
      "metadata": {
        "id": "6zur_8g-2cTw"
      }
    },
    {
      "cell_type": "code",
      "source": [
        "import math\n",
        "\n",
        "a = float(input(\"Nhap do dai canh a: \"))\n",
        "b = float(input(\"Nhap do dai canh b: \"))\n",
        "c = float(input(\"Nhap do dai canh c: \"))\n",
        "\n",
        "p = (a + b + c) / 2\n",
        "S = math.sqrt(p * (p - a) * (p - b) * (p - c))\n",
        "\n",
        "print(f\"Dien tich tam giac S = {S:.2f}\")\n"
      ],
      "metadata": {
        "id": "jrCl3H_t2pmx"
      },
      "execution_count": null,
      "outputs": []
    },
    {
      "cell_type": "markdown",
      "source": [
        "Bài 6. Hàm Mũ"
      ],
      "metadata": {
        "id": "jvKvp-dA2eFm"
      }
    },
    {
      "cell_type": "code",
      "source": [
        "a = int(input(\"Nhap so thuc a: \"))\n",
        "n = int(input(\"Nhap so mu n: \"))\n",
        "\n",
        "kq = a ** n\n",
        "print(f\"{a}^{n} = {kq}\")"
      ],
      "metadata": {
        "id": "vtDdBfbk2trh"
      },
      "execution_count": null,
      "outputs": []
    },
    {
      "cell_type": "markdown",
      "source": [
        "Bài 7. Đảo số"
      ],
      "metadata": {
        "id": "k2cC4ixx2gRI"
      }
    },
    {
      "cell_type": "code",
      "source": [
        "x = int(input(\"Nhap vao so co 4 chu so: \"))\n",
        "\n",
        "dao = int(str(x)[::-1])\n",
        "print(f\"So dao cua {x} la {dao}\")"
      ],
      "metadata": {
        "id": "mLnahNEW2vnt"
      },
      "execution_count": null,
      "outputs": []
    },
    {
      "cell_type": "markdown",
      "source": [
        "Bài 8. Độ sang Radian"
      ],
      "metadata": {
        "id": "t4wvoEIt2h_G"
      }
    },
    {
      "cell_type": "code",
      "source": [
        "import math\n",
        "\n",
        "do = float(input(\"Nhap goc (do): \"))\n",
        "radian = do * math.pi / 180\n",
        "print(f\"Goc {do} do = {radian:.2f} radian\")"
      ],
      "metadata": {
        "colab": {
          "base_uri": "https://localhost:8080/"
        },
        "id": "k5SMOHkn5NCf",
        "outputId": "f29b4802-408f-4909-fda9-aaf31df37ba4"
      },
      "execution_count": null,
      "outputs": [
        {
          "output_type": "stream",
          "name": "stdout",
          "text": [
            "Nhap goc (do): 56\n",
            "Goc 56.0 do = 0.98 radian\n"
          ]
        }
      ]
    },
    {
      "cell_type": "markdown",
      "source": [
        "Bài 9. Hàm số 1"
      ],
      "metadata": {
        "id": "pIt1x3GS2j4C"
      }
    },
    {
      "cell_type": "code",
      "source": [
        "import math\n",
        "\n",
        "x = float(input(\"Nhap gia tri x: \"))\n",
        "\n",
        "y1 = 4 * (x**2 + 10*x*math.sqrt(x) + 3*x + 1)\n",
        "y2 = math.sin(2*x + math.sqrt(x**2 + 1)) / (math.e**x + math.cos((math.pi/4)*x))\n",
        "\n",
        "print(f\"y1 = {y1:.2f}\")\n",
        "print(f\"y2 = {y2:.2f}\")"
      ],
      "metadata": {
        "id": "PjW_W_DE20LR"
      },
      "execution_count": null,
      "outputs": []
    },
    {
      "cell_type": "markdown",
      "source": [
        "Bài 10. Khoảng cách"
      ],
      "metadata": {
        "id": "Iv9kZMg-2mmi"
      }
    },
    {
      "cell_type": "code",
      "source": [
        "import math\n",
        "\n",
        "x1 = float(input(\"Nhap x1: \"))\n",
        "y1 = float(input(\"Nhap y1: \"))\n",
        "x2 = float(input(\"Nhap x2: \"))\n",
        "y2 = float(input(\"Nhap y2: \"))\n",
        "\n",
        "d = math.sqrt((x2 - x1)**2 + (y2 - y1)**2)\n",
        "\n",
        "print(f\"Khoang cach giua A({x1},{y1}) va B({x2},{y2}) la {d:.2f}\")"
      ],
      "metadata": {
        "id": "iYjRgImg22dE"
      },
      "execution_count": null,
      "outputs": []
    },
    {
      "cell_type": "markdown",
      "source": [
        "# **CẤU TRÚC ĐIỀU KIỆN**"
      ],
      "metadata": {
        "id": "aVRajM3D3CtJ"
      }
    },
    {
      "cell_type": "markdown",
      "source": [
        "**BÀI TẬP THÊM**"
      ],
      "metadata": {
        "id": "aIWbdoes3UoP"
      }
    },
    {
      "cell_type": "markdown",
      "source": [
        "Bài 1. Tìm giá trị lớn nhất, nhỏ nhất của 5 số"
      ],
      "metadata": {
        "id": "4LQZbtUH3ayM"
      }
    },
    {
      "cell_type": "code",
      "source": [
        "# MaxMin5.py\n",
        "a, b, c, d, e = map(int, input(\"Nhap 5 so a, b, c, d, e: \").split())\n",
        "print(\"Max =\", max(a, b, c, d, e))\n",
        "print(\"Min =\", min(a, b, c, d, e))"
      ],
      "metadata": {
        "id": "gwFrSR_Z3F4H",
        "colab": {
          "base_uri": "https://localhost:8080/"
        },
        "outputId": "067cf23f-d682-4410-d7e8-01405b2e4c58"
      },
      "execution_count": null,
      "outputs": [
        {
          "output_type": "stream",
          "name": "stdout",
          "text": [
            "Nhap 5 so a, b, c, d, e: 1 2 3 4 5 \n",
            "Max = 5\n",
            "Min = 1\n"
          ]
        }
      ]
    },
    {
      "cell_type": "markdown",
      "source": [
        "Bài 2. Giải phương trình bậc 2"
      ],
      "metadata": {
        "id": "BhJeKNTv3cGL"
      }
    },
    {
      "cell_type": "code",
      "source": [
        "# SolvQuadEq.py\n",
        "import math\n",
        "\n",
        "a = float(input(\"Nhap a: \"))\n",
        "b = float(input(\"Nhap b: \"))\n",
        "c = float(input(\"Nhap c: \"))\n",
        "\n",
        "if a == 0:\n",
        "    if b == 0:\n",
        "        if c == 0:\n",
        "            print(\"Unlimited solutions\")\n",
        "        else:\n",
        "            print(\"No solution\")\n",
        "    else:\n",
        "        print(\"x =\", -c/b)\n",
        "else:\n",
        "    delta = b**2 - 4*a*c\n",
        "    if delta < 0:\n",
        "        print(\"No solution\")\n",
        "    elif delta == 0:\n",
        "        x = -b/(2*a)\n",
        "        print(\"x1=x2=%.2f\" % x)\n",
        "    else:\n",
        "        x1 = (-b + math.sqrt(delta))/(2*a)\n",
        "        x2 = (-b - math.sqrt(delta))/(2*a)\n",
        "        print(\"x1=%.2f, x2=%.2f\" % (x1, x2))"
      ],
      "metadata": {
        "colab": {
          "base_uri": "https://localhost:8080/"
        },
        "id": "AiC4JpzX8oRW",
        "outputId": "422263e0-f930-461d-d057-c54ebf84e79e"
      },
      "execution_count": null,
      "outputs": [
        {
          "output_type": "stream",
          "name": "stdout",
          "text": [
            "Nhap a: 2\n",
            "Nhap b: -5\n",
            "Nhap c: -8\n",
            "x1=3.61, x2=-1.11\n"
          ]
        }
      ]
    },
    {
      "cell_type": "markdown",
      "source": [
        "Bài 3. Tính số ngày của tháng (dùng rẽ nhánh)"
      ],
      "metadata": {
        "id": "f9di8Eqt3e7M"
      }
    },
    {
      "cell_type": "code",
      "source": [
        "# TotalDayMonth.py\n",
        "year = int(input(\"Nhap nam: \"))\n",
        "month = int(input(\"Nhap thang: \"))\n",
        "\n",
        "if month in [1, 3, 5, 7, 8, 10, 12]:\n",
        "    days = 31\n",
        "elif month in [4, 6, 9, 11]:\n",
        "    days = 30\n",
        "else:\n",
        "    # Kiểm tra năm nhuận\n",
        "    if (year % 400 == 0) or (year % 4 == 0 and year % 100 != 0):\n",
        "        days = 29\n",
        "    else:\n",
        "        days = 28\n",
        "\n",
        "print(f\"Thang {month} nam {year} co {days} ngay\")"
      ],
      "metadata": {
        "id": "FZauWkLF82JG"
      },
      "execution_count": null,
      "outputs": []
    },
    {
      "cell_type": "markdown",
      "source": [
        "Bài 4. Chữ số lớn nhất"
      ],
      "metadata": {
        "id": "JcIsE0sT3hcG"
      }
    },
    {
      "cell_type": "code",
      "source": [
        "# MaxDigit.py\n",
        "n = int(input(\"Nhap so nguyen n: \"))\n",
        "max_digit = 0\n",
        "for ch in str(n):\n",
        "    if int(ch) > max_digit:\n",
        "        max_digit = int(ch)\n",
        "print(\"Chu so lon nhat la:\", max_digit)"
      ],
      "metadata": {
        "id": "f1uOyrSY83aw"
      },
      "execution_count": null,
      "outputs": []
    },
    {
      "cell_type": "markdown",
      "source": [
        "Bài 5. Điểm trung bình"
      ],
      "metadata": {
        "id": "2_-yOTFz3owV"
      }
    },
    {
      "cell_type": "code",
      "source": [
        "\n",
        "\n",
        "\n",
        "# GPA.py\n",
        "math = float(input(\"Nhap diem Toan: \"))\n",
        "physics = float(input(\"Nhap diem Ly: \"))\n",
        "chem = float(input(\"Nhap diem Hoa: \"))\n",
        "\n",
        "avg = (math*2 + physics*3 + chem) / 6\n",
        "\n",
        "if avg > 8:\n",
        "    grade = \"Good\"\n",
        "elif avg >= 6.5:\n",
        "    grade = \"Pretty\"\n",
        "elif avg >= 5:\n",
        "    grade = \"Average\"\n",
        "else:\n",
        "    grade = \"Weak\"\n",
        "\n",
        "print(\"Average point = %.2f, rating %s.\" % (avg, grade))"
      ],
      "metadata": {
        "id": "S9sa_nz1896m",
        "colab": {
          "base_uri": "https://localhost:8080/"
        },
        "outputId": "31eeb8f9-b097-49e3-dd57-8e1b642fc40e"
      },
      "execution_count": 24,
      "outputs": [
        {
          "output_type": "stream",
          "name": "stdout",
          "text": [
            "Nhap diem Toan: 8\n",
            "Nhap diem Ly: 9\n",
            "Nhap diem Hoa: 5\n",
            "Average point = 8.00, rating Pretty.\n"
          ]
        }
      ]
    },
    {
      "cell_type": "markdown",
      "source": [
        "Bài 6. Tính tiền nước tiêu thụ trong hộ gia đình"
      ],
      "metadata": {
        "id": "ZdMasAG34Hsr"
      }
    },
    {
      "cell_type": "code",
      "source": [
        "# Nhập chỉ số cũ và mới\n",
        "old = int(input(\"Nhập chỉ số điện cũ: \"))\n",
        "new = int(input(\"Nhập chỉ số điện mới: \"))\n",
        "\n",
        "# Số điện tiêu thụ\n",
        "kwh = new - old\n",
        "\n",
        "# Tính tiền điện theo bậc\n",
        "def tinh_tien(kwh):\n",
        "    bac = [100, 150, 200, 300, 400]  # ngưỡng kWh\n",
        "    gia = [1242, 1304, 1651, 1788, 1912, 1962]  # giá từng bậc\n",
        "    tien = 0\n",
        "    for i in range(len(bac)):\n",
        "        if kwh > bac[i]:\n",
        "            tien += (bac[i] - (bac[i-1] if i > 0 else 0)) * gia[i]\n",
        "        else:\n",
        "            tien += (kwh - (bac[i-1] if i > 0 else 0)) * gia[i]\n",
        "            return tien\n",
        "    tien += (kwh - 400) * gia[-1]\n",
        "    return tien\n",
        "\n",
        "# Tính tiền và cộng VAT 10%\n",
        "tien_dien = tinh_tien(kwh)\n",
        "tong = tien_dien * 1.1\n",
        "\n",
        "# Xuất kết quả\n",
        "print(f\"Số kWh tiêu thụ: {kwh}\")\n",
        "print(f\"Số tiền phải trả (đã gồm VAT): {tong:,.0f} VND\")\n"
      ],
      "metadata": {
        "colab": {
          "base_uri": "https://localhost:8080/"
        },
        "id": "C3rj-jroAxs_",
        "outputId": "3bc42e6d-8fdc-4210-ee2f-fc011a372ab4"
      },
      "execution_count": 23,
      "outputs": [
        {
          "output_type": "stream",
          "name": "stdout",
          "text": [
            "Nhập chỉ số điện cũ: 67\n",
            "Nhập chỉ số điện mới: 89\n",
            "Số kWh tiêu thụ: 22\n",
            "Số tiền phải trả (đã gồm VAT): 30,056 VND\n"
          ]
        }
      ]
    },
    {
      "cell_type": "markdown",
      "source": [
        "Bài 7. Ngày sau"
      ],
      "metadata": {
        "id": "Fw0SW2ie4KT9"
      }
    },
    {
      "cell_type": "code",
      "source": [
        "def previous_day(d, m, y):\n",
        "    # số ngày trong tháng (năm thường)\n",
        "    days_in_month = [31, 28, 31, 30, 31, 30, 31, 31, 30, 31, 30, 31]\n",
        "\n",
        "    # kiểm tra năm nhuận\n",
        "    def is_leap_year(year):\n",
        "        return (year % 4 == 0 and year % 100 != 0) or (year % 400 == 0)\n",
        "\n",
        "    # nếu là tháng 2 năm nhuận\n",
        "    if is_leap_year(y):\n",
        "        days_in_month[1] = 29\n",
        "\n",
        "    if d > 1:\n",
        "        d -= 1\n",
        "    else:  # d == 1\n",
        "        if m == 1:  # đầu năm\n",
        "            d = 31\n",
        "            m = 12\n",
        "            y -= 1\n",
        "        else:\n",
        "            m -= 1\n",
        "            d = days_in_month[m - 1]\n",
        "    return d, m, y\n",
        "\n",
        "d, m, y = map(int, input(\"Nhập ngày tháng năm (vd: 1 2 2015): \").split())\n",
        "pd = previous_day(d, m, y)\n",
        "print(f\"Ngày trước của {d}/{m}/{y} là {pd[0]}/{pd[1]}/{pd[2]}\")"
      ],
      "metadata": {
        "id": "x2HX2MWX9RdF",
        "colab": {
          "base_uri": "https://localhost:8080/"
        },
        "outputId": "df781832-0196-4b63-93ab-4e113b73ea90"
      },
      "execution_count": 22,
      "outputs": [
        {
          "output_type": "stream",
          "name": "stdout",
          "text": [
            "Nhập ngày tháng năm (vd: 1 2 2015): 4 9 2018\n",
            "Ngày trước của 4/9/2018 là 3/9/2018\n"
          ]
        }
      ]
    },
    {
      "cell_type": "markdown",
      "source": [
        "Bài 8. Tính chất số (1)"
      ],
      "metadata": {
        "id": "IS4WxgW74Mza"
      }
    },
    {
      "cell_type": "code",
      "source": [
        "def check_triangle(a, b, c):\n",
        "    sides = sorted([a, b, c])  # sắp xếp để dễ kiểm tra\n",
        "    a, b, c = sides\n",
        "    if a + b > c:  # điều kiện tam giác\n",
        "        if a * a + b * b == c * c:\n",
        "            return \"là tam giác vuông\"\n",
        "        elif a == b == c:\n",
        "            return \"là tam giác đều\"\n",
        "        elif a == b or b == c or a == c:\n",
        "            return \"là tam giác cân\"\n",
        "        else:\n",
        "            return \"là tam giác thường\"\n",
        "    else:\n",
        "        return \"không phải tam giác\"\n",
        "a, b, c = map(int, input(\"Nhập 3 cạnh của tam giác (vd: 5 3 4): \").split())\n",
        "print(f\"({a}, {b}, {c}) {check_triangle(a, b, c)}\")"
      ],
      "metadata": {
        "id": "l6dpQ3to94et",
        "colab": {
          "base_uri": "https://localhost:8080/"
        },
        "outputId": "504ae312-421c-4a84-f448-0cd3ed7a4661"
      },
      "execution_count": 21,
      "outputs": [
        {
          "output_type": "stream",
          "name": "stdout",
          "text": [
            "Nhập 3 cạnh của tam giác (vd: 5 3 4): 3 4 6\n",
            "(3, 4, 6) là tam giác thường\n"
          ]
        }
      ]
    },
    {
      "cell_type": "markdown",
      "source": [
        "# **CẤU TRÚC LẶP VÀ LIST**\n"
      ],
      "metadata": {
        "id": "ggvK9_Oz4NKH"
      }
    },
    {
      "cell_type": "markdown",
      "source": [
        "1. Cho một danh sách bao gồm các chuỗi chứa các chữ số.\n",
        "Ví dụ: A = [‘3’, ‘27’,’5’,’123’,’9’,’1’]\n",
        "* Viết hàm sắp xếp chuỗi tăng dần theo hai kiểu (string compare hoặc integer compare)"
      ],
      "metadata": {
        "id": "o_8ywSAE4Sb8"
      }
    },
    {
      "cell_type": "code",
      "source": [
        "def sap_xep(A, mode=\"string\"):\n",
        "    \"\"\"\n",
        "    Sắp xếp danh sách A gồm các chuỗi số\n",
        "    mode = \"string\" -> so sánh theo từ điển\n",
        "    mode = \"int\"    -> so sánh theo giá trị số nguyên\n",
        "    \"\"\"\n",
        "    if mode == \"string\":\n",
        "        return sorted(A, key=str)\n",
        "    elif mode == \"int\":\n",
        "        return sorted(A, key=int)\n",
        "    else:\n",
        "        raise ValueError(\"Mode phải là 'string' hoặc 'int'\")\n",
        "\n",
        "# Nhập dữ liệu từ bàn phím\n",
        "A = input(\"Nhập danh sách các số (cách nhau bởi dấu cách): \").split()\n",
        "\n",
        "print(\"Kết quả so sánh theo string:\", sap_xep(A, mode=\"string\"))\n",
        "print(\"Kết quả so sánh theo integer:\", sap_xep(A, mode=\"int\"))\n"
      ],
      "metadata": {
        "colab": {
          "base_uri": "https://localhost:8080/"
        },
        "id": "sIQpXsLNfUw4",
        "outputId": "e487ac48-67d2-4daf-cf99-200682090016"
      },
      "execution_count": 26,
      "outputs": [
        {
          "output_type": "stream",
          "name": "stdout",
          "text": [
            "Nhập danh sách các số (cách nhau bởi dấu cách): 1 3 4 5 6 7 8 \n",
            "Kết quả so sánh theo string: ['1', '3', '4', '5', '6', '7', '8']\n",
            "Kết quả so sánh theo integer: ['1', '3', '4', '5', '6', '7', '8']\n"
          ]
        }
      ]
    },
    {
      "cell_type": "markdown",
      "source": [
        "2. Viết chương trình in list sau khi đã xóa số tại vị trí thứ 1, thứ 2, thứ 3, thứ 6 trong [12,24,35,70,88,120,155].\n",
        "* Dùng list comprehension và enumerate()\n"
      ],
      "metadata": {
        "id": "9mPL-V264aGZ"
      }
    },
    {
      "cell_type": "code",
      "source": [
        "# Nhập list từ bàn phím (dạng các số cách nhau bằng dấu cách)\n",
        "A = list(map(int, input(\"Nhập danh sách số (cách nhau bởi dấu cách): \").split()))\n",
        "\n",
        "# Nhập các vị trí cần xóa (dạng số cách nhau bằng dấu cách)\n",
        "remove_index = set(map(int, input(\"Nhập các vị trí cần xóa (cách nhau bởi dấu cách): \").split()))\n",
        "\n",
        "# Dùng list comprehension + enumerate\n",
        "result = [value for index, value in enumerate(A) if index not in remove_index]\n",
        "\n",
        "print(\"Danh sách sau khi xóa:\", result)"
      ],
      "metadata": {
        "colab": {
          "base_uri": "https://localhost:8080/"
        },
        "id": "rx7EOUlWf48I",
        "outputId": "4491c201-624d-4755-bd4b-6d654fa893b5"
      },
      "execution_count": 27,
      "outputs": [
        {
          "output_type": "stream",
          "name": "stdout",
          "text": [
            "Nhập danh sách số (cách nhau bởi dấu cách): 4 5 6 7 8 9 \n",
            "Nhập các vị trí cần xóa (cách nhau bởi dấu cách): 6 7 \n",
            "Danh sách sau khi xóa: [4, 5, 6, 7, 8, 9]\n"
          ]
        }
      ]
    },
    {
      "cell_type": "markdown",
      "source": [
        "3. Xóa các phần tử trùng nhau trong list.\n",
        "* Yêu cầu không dùng hàm của kiểu dữ liệu dictionary và set"
      ],
      "metadata": {
        "id": "-XB5yz7d4gQV"
      }
    },
    {
      "cell_type": "code",
      "source": [
        "# Nhập list từ bàn phím (các số cách nhau bởi dấu cách)\n",
        "A = list(map(int, input(\"Nhập danh sách số, cách nhau bằng dấu cách: \").split()))\n",
        "B = []\n",
        "\n",
        "for x in A:\n",
        "    if x not in B:   # chỉ thêm nếu chưa có trong B\n",
        "        B.append(x)\n",
        "\n",
        "print(\"Danh sách sau khi xóa phần tử trùng:\", B)"
      ],
      "metadata": {
        "colab": {
          "base_uri": "https://localhost:8080/"
        },
        "id": "WJmpsXdngsGr",
        "outputId": "42452edc-4e0b-4a1b-b2de-34eee83da68f"
      },
      "execution_count": 28,
      "outputs": [
        {
          "output_type": "stream",
          "name": "stdout",
          "text": [
            "Nhập danh sách số, cách nhau bằng dấu cách: 44 4 93 657 4 \n",
            "Danh sách sau khi xóa phần tử trùng: [44, 4, 93, 657]\n"
          ]
        }
      ]
    },
    {
      "cell_type": "markdown",
      "source": [
        "4. Đếm số lần xuất hiện của các phần tử trong list.\n",
        "* Yêu cầu không dùng hàm của kiểu dữ liệu dictionary và module collections"
      ],
      "metadata": {
        "id": "zH6pfGsE4jJh"
      }
    },
    {
      "cell_type": "code",
      "source": [
        "# Nhập list từ bàn phím\n",
        "A = list(map(int, input(\"Nhập danh sách số, cách nhau bởi dấu cách: \").split()))\n",
        "\n",
        "# Tạo một list để lưu phần tử đã kiểm tra\n",
        "checked = []\n",
        "\n",
        "for x in A:\n",
        "    if x not in checked:   # chỉ xử lý nếu chưa đếm phần tử này\n",
        "        count = 0\n",
        "        for y in A:\n",
        "            if y == x:\n",
        "                count += 1\n",
        "        print(f\"{x}: {count}\")\n",
        "        checked.append(x)"
      ],
      "metadata": {
        "colab": {
          "base_uri": "https://localhost:8080/"
        },
        "id": "7K9m7m-Ug5Ir",
        "outputId": "ebf0a4b9-6cfc-4ac0-c9f0-8d2dad2029b5"
      },
      "execution_count": 29,
      "outputs": [
        {
          "output_type": "stream",
          "name": "stdout",
          "text": [
            "Nhập danh sách số, cách nhau bởi dấu cách: 1 2 3 4 5 6 7\n",
            "1: 1\n",
            "2: 1\n",
            "3: 1\n",
            "4: 1\n",
            "5: 1\n",
            "6: 1\n",
            "7: 1\n"
          ]
        }
      ]
    }
  ]
}