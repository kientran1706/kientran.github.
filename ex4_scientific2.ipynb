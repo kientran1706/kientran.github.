{
  "nbformat": 4,
  "nbformat_minor": 0,
  "metadata": {
    "colab": {
      "private_outputs": true,
      "provenance": [],
      "authorship_tag": "ABX9TyPCLMRLagjUwy4pvsOh3Zp8",
      "include_colab_link": true
    },
    "kernelspec": {
      "name": "python3",
      "display_name": "Python 3"
    },
    "language_info": {
      "name": "python"
    }
  },
  "cells": [
    {
      "cell_type": "markdown",
      "metadata": {
        "id": "view-in-github",
        "colab_type": "text"
      },
      "source": [
        "<a href=\"https://colab.research.google.com/github/kientran1706/kientran.github./blob/main/ex4_scientific2.ipynb\" target=\"_parent\"><img src=\"https://colab.research.google.com/assets/colab-badge.svg\" alt=\"Open In Colab\"/></a>"
      ]
    },
    {
      "cell_type": "markdown",
      "source": [
        "### Import thư viện\n"
      ],
      "metadata": {
        "id": "p_KJqaMUGmy7"
      }
    },
    {
      "cell_type": "markdown",
      "source": [
        "# ex4_scientific2\n",
        "## Nội dung bài\n",
        "Hiển thị 2 đồ thị sin(x), cos(x) trong khoảng $x \\in \\left[-\\pi, \\pi\\right]$\n",
        "## Bài làm"
      ],
      "metadata": {
        "id": "_98vhRSDG3Xf"
      }
    },
    {
      "cell_type": "markdown",
      "source": [
        "### Import thư viện\n"
      ],
      "metadata": {
        "id": "oPKSIlW9G7eH"
      }
    },
    {
      "cell_type": "code",
      "execution_count": null,
      "metadata": {
        "id": "R-TbQ4QnF1Hf"
      },
      "outputs": [],
      "source": [
        "import numpy as np\n",
        "import matplotlib.pyplot as plt"
      ]
    },
    {
      "cell_type": "markdown",
      "source": [
        "### Sinh dữ liệu hàm số\n"
      ],
      "metadata": {
        "id": "bTNEJteWHBsi"
      }
    },
    {
      "cell_type": "code",
      "source": [
        "X = np.linspace(-np.pi, np.pi, 256, endpoint=True) # generate x in [-pi, pi]\n",
        "C, S = np.cos(X), np.sin(X)\n",
        "\n",
        "print(f'+ X: |X|={len(X)}, x in [{np.min(X):.2f}, {np.max(X):.2f}], 10 samples: {X[0:10]}')\n",
        "print(f'+ Cos(X): |C|={len(C)}, C in [{np.min(C):.2f}, {np.max(C):.2f}], 10 samples: {C[0:10]}')\n",
        "print(f'+ Sin(X): |S|={len(S)}, S in [{np.min(S):.2f}, {np.max(S):.2f}], 10 samples: {S[0:10]}')"
      ],
      "metadata": {
        "id": "-e7VdaJ3GHir"
      },
      "execution_count": null,
      "outputs": []
    },
    {
      "cell_type": "markdown",
      "source": [
        "### Sinh dữ liệu hàm số\n"
      ],
      "metadata": {
        "id": "5UXBf6ixHFlr"
      }
    },
    {
      "cell_type": "code",
      "source": [
        "print(f'+ X: |X|={len(X)}, x in [{np.min(X):.2f}, {np.max(X):.2f}], 10 samples: {X[0:10]}')\n",
        "print(f'+ Cos(X): |C|={len(C)}, C in [{np.min(C):.2f}, {np.max(C):.2f}], 10 samples: {C[0:10]}')\n",
        "print(f'+ Sin(X): |S|={len(S)}, S in [{np.min(S):.2f}, {np.max(S):.2f}], 10 samples: {S[0:10]}')"
      ],
      "metadata": {
        "id": "bODiE_SUGNHd"
      },
      "execution_count": null,
      "outputs": []
    },
    {
      "cell_type": "markdown",
      "source": [
        "### Hiển thị đồ thị"
      ],
      "metadata": {
        "id": "vHtwjqRbHJjZ"
      }
    },
    {
      "cell_type": "code",
      "source": [],
      "metadata": {
        "id": "oCIYiLlrHOUo"
      },
      "execution_count": null,
      "outputs": []
    },
    {
      "cell_type": "code",
      "source": [
        "# visualize data\n",
        "plt.plot(X, C, color=\"blue\", linewidth=2.5, linestyle=\"-\");\n",
        "plt.plot(X, S, color=\"red\", linewidth=2.5, linestyle=\"-\");\n",
        "\n",
        "# limit on x axis\n",
        "plt.xlim(X.min() * 1.1, X.max() * 1.1);\n",
        "plt.xticks([-np.pi, -np.pi / 2, 0, np.pi / 2, np.pi],\n",
        " [r'$-\\pi$', r'$-\\pi/2$', r'$0$', r'$+\\pi/2$', r'$+\\pi$']);\n",
        "\n",
        "# limit on y axis\n",
        "plt.ylim(C.min() * 1.1, C.max() * 1.1);\n",
        "plt.yticks([-1, 0, +1], [r'$-1$', r'$0$', r'$+1$']);\n",
        "\n",
        "plt.show()\n"
      ],
      "metadata": {
        "id": "8_Kst78fGQ6-"
      },
      "execution_count": null,
      "outputs": []
    },
    {
      "cell_type": "code",
      "source": [],
      "metadata": {
        "id": "-F5bsBP3Gauv"
      },
      "execution_count": null,
      "outputs": []
    },
    {
      "cell_type": "markdown",
      "source": [
        "# Kết thúc"
      ],
      "metadata": {
        "id": "PVQKjZzkGg3Z"
      }
    }
  ]
}