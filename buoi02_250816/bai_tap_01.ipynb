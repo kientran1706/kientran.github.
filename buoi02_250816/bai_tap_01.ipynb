{
  "nbformat": 4,
  "nbformat_minor": 0,
  "metadata": {
    "colab": {
      "provenance": [],
      "include_colab_link": true
    },
    "kernelspec": {
      "name": "python3",
      "display_name": "Python 3"
    },
    "language_info": {
      "name": "python"
    }
  },
  "cells": [
    {
      "cell_type": "markdown",
      "metadata": {
        "id": "view-in-github",
        "colab_type": "text"
      },
      "source": [
        "<a href=\"https://colab.research.google.com/github/kientran1706/kientran.github./blob/index.html/buoi02_250816/bai_tap_01.ipynb\" target=\"_parent\"><img src=\"https://colab.research.google.com/assets/colab-badge.svg\" alt=\"Open In Colab\"/></a>"
      ]
    },
    {
      "cell_type": "code",
      "execution_count": 3,
      "metadata": {
        "colab": {
          "base_uri": "https://localhost:8080/"
        },
        "id": "VhFD9WmCkztl",
        "outputId": "a9936d38-e617-4c28-8a62-b1cc969f8f83"
      },
      "outputs": [
        {
          "output_type": "stream",
          "name": "stdout",
          "text": [
            "Hello, World!\n"
          ]
        }
      ],
      "source": [
        "print(\"Hello, World!\")"
      ]
    },
    {
      "cell_type": "code",
      "source": [
        "pv = 100\n",
        "r = 0.1\n",
        "n = 7\n",
        "fv = pv * ((1 + r)**n)\n",
        "print(round(fv, 2))"
      ],
      "metadata": {
        "colab": {
          "base_uri": "https://localhost:8080/"
        },
        "id": "WtudoGVSlQB3",
        "outputId": "825b3d1f-c735-4fbc-acd6-960120c8a1e2"
      },
      "execution_count": 1,
      "outputs": [
        {
          "output_type": "stream",
          "name": "stdout",
          "text": [
            "194.87\n"
          ]
        }
      ]
    },
    {
      "cell_type": "code",
      "source": [
        "amount = 100\n",
        "interest = 10\n",
        "years = 7\n",
        "\n",
        "future_value = amount * ((1 + 0.01 * interest)**years)\n",
        "print(round(future_value, 2))"
      ],
      "metadata": {
        "colab": {
          "base_uri": "https://localhost:8080/"
        },
        "id": "m8drA9kOmjUs",
        "outputId": "f33c519f-a876-420e-bccd-f7b06a1aea93"
      },
      "execution_count": 2,
      "outputs": [
        {
          "output_type": "stream",
          "name": "stdout",
          "text": [
            "194.87\n"
          ]
        }
      ]
    },
    {
      "cell_type": "code",
      "source": [],
      "metadata": {
        "id": "duESvYa9nUp7"
      },
      "execution_count": 3,
      "outputs": []
    }
  ]
}